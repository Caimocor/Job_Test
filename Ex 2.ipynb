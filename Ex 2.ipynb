{
 "cells": [
  {
   "cell_type": "markdown",
   "metadata": {},
   "source": [
    "# Exercício 2\n"
   ]
  },
  {
   "cell_type": "code",
   "execution_count": 3,
   "metadata": {
    "scrolled": false
   },
   "outputs": [],
   "source": [
    "import numpy as np\n",
    "import matplotlib.pyplot as plt\n",
    "%matplotlib inline\n",
    "\n",
    "n_simul = 1000000\n",
    "\n",
    "sum_array = np.zeros(n_simul)\n",
    "\n",
    "for t in range(1,n_simul - 1):\n",
    "\n",
    "    x = []\n",
    "    x.append('A')\n",
    "    k = 1\n",
    "    sum_ = 0\n",
    "    \n",
    "    #realiza diversas trajetorias ate que chegue no ponto 'C'\n",
    "    while(x[k-1] != 'C'):\n",
    "        \n",
    "        #variavel aleatoria que decide qual caminho sera seguido\n",
    "        rand = np.random.rand()\n",
    "\n",
    "        #caso esteja no ponto 'A' define qual sera o proximo caminho\n",
    "        if x[k-1] == 'A':\n",
    "            if rand <= 0.05:\n",
    "\n",
    "                x.append('A')\n",
    "                sum_ = sum_ + 5\n",
    "            elif rand > 0.05 and rand <= 0.10:\n",
    "\n",
    "                x.append('C')\n",
    "                sum_ = sum_ + 10\n",
    "                \n",
    "            else:\n",
    "\n",
    "                x.append('B')\n",
    "                sum_ = sum_ + 2\n",
    "                \n",
    "        #caso esteja no ponto 'B' define qual sera o proximo caminho\n",
    "        else:\n",
    "\n",
    "            if rand <= 0.5:\n",
    "\n",
    "                x.append('B')\n",
    "                sum_ = sum_ + 3\n",
    "            else:\n",
    "\n",
    "                x.append('A')\n",
    "                sum_ = sum_ + 3\n",
    "        \n",
    "        k = k + 1\n",
    "        \n",
    "    #adiciona ao vetor de resultado da trajetoria\n",
    "    sum_array[t] = sum_        "
   ]
  },
  {
   "cell_type": "markdown",
   "metadata": {},
   "source": [
    "# Resultado para cada uma das trajetorias dividido pelo numero de simulacoes"
   ]
  },
  {
   "cell_type": "code",
   "execution_count": 4,
   "metadata": {},
   "outputs": [
    {
     "data": {
      "text/plain": [
       "158.861617"
      ]
     },
     "execution_count": 4,
     "metadata": {},
     "output_type": "execute_result"
    }
   ],
   "source": [
    "#Resultado para cada uma das trajetorias dividido pelo numero de simulacoes\n",
    "sum_array.sum()/len(sum_array)"
   ]
  },
  {
   "cell_type": "code",
   "execution_count": null,
   "metadata": {},
   "outputs": [],
   "source": []
  }
 ],
 "metadata": {
  "kernelspec": {
   "display_name": "Python 3",
   "language": "python",
   "name": "python3"
  },
  "language_info": {
   "codemirror_mode": {
    "name": "ipython",
    "version": 3
   },
   "file_extension": ".py",
   "mimetype": "text/x-python",
   "name": "python",
   "nbconvert_exporter": "python",
   "pygments_lexer": "ipython3",
   "version": "3.7.1"
  }
 },
 "nbformat": 4,
 "nbformat_minor": 2
}

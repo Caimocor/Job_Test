{
 "cells": [
  {
   "cell_type": "markdown",
   "metadata": {},
   "source": [
    "# Considerando teste para nenhum trade ou de 100 em 100 trades\n"
   ]
  },
  {
   "cell_type": "code",
   "execution_count": 8,
   "metadata": {},
   "outputs": [],
   "source": [
    "from cvxopt.glpk import ilp\n",
    "import cvxopt as cvx \n",
    "import numpy as np\n",
    "\n",
    "def allocate_position_ratio(d_qt, p_qt, at_qt, ar_qt, var):          \n",
    "\n",
    "        p_lim = 0.4883\n",
    "        at_lim = 0.1307\n",
    "        ar_lim = 0.0204\n",
    "\n",
    "        lim = 0.001\n",
    "\n",
    "        #define os limites percentuais das inequacoes\n",
    "        p_lim_sup = p_lim + lim\n",
    "        p_lim_inf = p_lim - lim\n",
    "        at_lim_sup = at_lim + lim\n",
    "        at_lim_inf = at_lim - lim\n",
    "        ar_lim_sup = ar_lim + lim\n",
    "        ar_lim_inf = ar_lim - lim\n",
    "\n",
    "        #define os limites de quantidades\n",
    "        p_less_qt = d_qt*p_lim_sup - p_qt\n",
    "        p_more_qt = d_qt*p_lim_inf - p_qt\n",
    "        at_less_qt = d_qt*at_lim_sup - at_qt\n",
    "        at_more_qt = d_qt*at_lim_inf - at_qt\n",
    "        ar_less_qt = d_qt*ar_lim_sup - ar_qt\n",
    "        ar_more_qt = d_qt*ar_lim_inf - ar_qt\n",
    "\n",
    "        #cost function\n",
    "        #D + P + At + Ar + D_Trades + P_trades + At_Trades + Ar_Trades \n",
    "\n",
    "        c = cvx.matrix(np.array([1,1,1,1],dtype=float))\n",
    "    \n",
    "        #considera nao realizar nenhum trade e somente redistribuir entre os existentes\n",
    "        if var == 0:\n",
    "            h = cvx.matrix(np.array([p_less_qt,-p_more_qt\n",
    "                                 ,at_less_qt,-at_more_qt\n",
    "                                 ,ar_less_qt,-ar_more_qt],dtype=float))\n",
    "            \n",
    "            G = cvx.matrix(np.array([[-1*p_lim_sup,1,0,0],\n",
    "                                 [1*p_lim_inf,-1,0,0],\n",
    "                                 [-1*at_lim_sup,0,1,0],\n",
    "                                 [1*at_lim_inf,0,-1,0],\n",
    "                                 [-1*ar_lim_sup,0,0,1],\n",
    "                                 [1*ar_lim_inf,0,0,-1]],dtype=float))\n",
    "            \n",
    "        #considera a adicao de 100 novas acoes, as redistribuindo entre os diferentes fundos\n",
    "        else:\n",
    "            #inequations\n",
    "            h = cvx.matrix(np.array([p_less_qt,-p_more_qt\n",
    "                                 ,at_less_qt,-at_more_qt\n",
    "                                 ,ar_less_qt,-ar_more_qt\n",
    "                                 ,0,0,0,0],dtype=float))\n",
    "\n",
    "            G = cvx.matrix(np.array([[-1*p_lim_sup,1,0,0],\n",
    "                                 [1*p_lim_inf,-1,0,0],\n",
    "                                 [-1*at_lim_sup,0,1,0],\n",
    "                                 [1*at_lim_inf,0,-1,0],\n",
    "                                 [-1*ar_lim_sup,0,0,1],\n",
    "                                 [1*ar_lim_inf,0,0,-1],\n",
    "                                 [-1,0,0,0],\n",
    "                                 [0,-1,0,0],\n",
    "                                 [0,0,-1,0],\n",
    "                                 [0,0,0,-1]],dtype=float))\n",
    "\n",
    "        #equations\n",
    "        b = cvx.matrix(np.array([var],dtype=float))\n",
    "        A = cvx.matrix(np.array([[1,1,1,1]],dtype=float))\n",
    "\n",
    "        (status,x) = ilp(c=c,G=G,A=A,b=b,h=h,I=set([0,1,2,3]))\n",
    "        \n",
    "        return x\n",
    "\n",
    "\n"
   ]
  },
  {
   "cell_type": "code",
   "execution_count": 10,
   "metadata": {},
   "outputs": [
    {
     "name": "stdout",
     "output_type": "stream",
     "text": [
      "A quantidade de ações que deverão ser alocadas no fundo Dartagnan são: -1298.0\n",
      "A quantidade de ações que deverão ser alocadas no fundo Portos são: 743.0\n",
      "A quantidade de ações que deverão ser alocadas no fundo Athos são: 357.0\n",
      "A quantidade de ações que deverão ser alocadas no fundo Aramis são: 198.0\n",
      "A quantidade de novos trades que deverão ser realizado são: 0.0\n"
     ]
    }
   ],
   "source": [
    "#Quantidade de ações que cada fundo possui\n",
    "d_qt = 172196\n",
    "p_qt = 82536\n",
    "at_qt = 21809\n",
    "ar_qt = 3459\n",
    "\n",
    "x = None\n",
    "var = 0\n",
    "\n",
    "while(x == None):\n",
    "      \n",
    "    x = allocate_position_ratio(d_qt, p_qt, at_qt, ar_qt, var)\n",
    "    var= var + 100\n",
    "\n",
    "print('A quantidade de ações que deverão ser alocadas no fundo Dartagnan são: ' + str(x[0])) \n",
    "print('A quantidade de ações que deverão ser alocadas no fundo Portos são: ' + str(x[1])) \n",
    "print('A quantidade de ações que deverão ser alocadas no fundo Athos são: ' + str(x[2])) \n",
    "print('A quantidade de ações que deverão ser alocadas no fundo Aramis são: ' + str(x[3]))\n",
    "print('A quantidade de novos trades que deverão ser realizado são: ' + str(x[0] + x[1] + x[2] + x[3])) "
   ]
  },
  {
   "cell_type": "markdown",
   "metadata": {},
   "source": [
    "# Considerar novos trades de 100 ações"
   ]
  },
  {
   "cell_type": "code",
   "execution_count": 7,
   "metadata": {},
   "outputs": [
    {
     "name": "stdout",
     "output_type": "stream",
     "text": [
      "A quantidade de ações que deverão ser alocadas no fundo Dartagnan são: 0.0\n",
      "A quantidade de ações que deverão ser alocadas no fundo Portos são: 1376.0\n",
      "A quantidade de ações que deverão ser alocadas no fundo Athos são: 525.0\n",
      "A quantidade de ações que deverão ser alocadas no fundo Aramis são: 99.0\n",
      "A quantidade de novos trades que deverão ser realizado são: 2000.0\n"
     ]
    }
   ],
   "source": [
    "var = 100\n",
    "x = None\n",
    "while(x == None):\n",
    "      \n",
    "    x = allocate_position_ratio(d_qt, p_qt, at_qt, ar_qt, var)\n",
    "    var= var + 100\n",
    "    \n",
    "print('A quantidade de ações que deverão ser alocadas no fundo Dartagnan são: ' + str(x[0])) \n",
    "print('A quantidade de ações que deverão ser alocadas no fundo Portos são: ' + str(x[1])) \n",
    "print('A quantidade de ações que deverão ser alocadas no fundo Athos são: ' + str(x[2])) \n",
    "print('A quantidade de ações que deverão ser alocadas no fundo Aramis são: ' + str(x[3]))\n",
    "print('A quantidade de novos trades que deverão ser realizado são: ' + str(x[0] + x[1] + x[2] + x[3])) "
   ]
  },
  {
   "cell_type": "code",
   "execution_count": null,
   "metadata": {},
   "outputs": [],
   "source": []
  }
 ],
 "metadata": {
  "kernelspec": {
   "display_name": "Python 3",
   "language": "python",
   "name": "python3"
  },
  "language_info": {
   "codemirror_mode": {
    "name": "ipython",
    "version": 3
   },
   "file_extension": ".py",
   "mimetype": "text/x-python",
   "name": "python",
   "nbconvert_exporter": "python",
   "pygments_lexer": "ipython3",
   "version": "3.7.1"
  }
 },
 "nbformat": 4,
 "nbformat_minor": 2
}
